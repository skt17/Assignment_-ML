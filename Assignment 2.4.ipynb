{
 "cells": [
  {
   "cell_type": "markdown",
   "metadata": {},
   "source": [
    "Write a Python Program(with class concepts) to find the area of the triangle using the below\n",
    "formula.\n",
    "area = (s*(s-a)*(s-b)*(s-c)) ** 0.5\n",
    "Function to take the length of the sides of triangle from user should be defined in the parent\n",
    "class and function to calculate the area should be defined in subclass.\n"
   ]
  },
  {
   "cell_type": "code",
   "execution_count": 23,
   "metadata": {},
   "outputs": [
    {
     "name": "stdout",
     "output_type": "stream",
     "text": [
      "20.33316256758894\n"
     ]
    }
   ],
   "source": [
    "class side:\n",
    "   def setlen(self,a,b,c):\n",
    "    self.a=a\n",
    "    self.b=b\n",
    "    self.c=c\n",
    "    \n",
    "class area(side):\n",
    "    def calarea(self):\n",
    "        a=self.a\n",
    "        b=self.b\n",
    "        c=self.c\n",
    "        s=(a+b+c)/2\n",
    "        ar=(s*(s-a)*(s-b)*(s-c)) ** 0.5\n",
    "        print(ar)\n",
    "ak=area()\n",
    "ak.setlen(6,7,8)\n",
    "ak.calarea()\n"
   ]
  },
  {
   "cell_type": "code",
   "execution_count": null,
   "metadata": {},
   "outputs": [],
   "source": []
  },
  {
   "cell_type": "code",
   "execution_count": null,
   "metadata": {},
   "outputs": [],
   "source": []
  }
 ],
 "metadata": {
  "kernelspec": {
   "display_name": "Python 3",
   "language": "python",
   "name": "python3"
  },
  "language_info": {
   "codemirror_mode": {
    "name": "ipython",
    "version": 3
   },
   "file_extension": ".py",
   "mimetype": "text/x-python",
   "name": "python",
   "nbconvert_exporter": "python",
   "pygments_lexer": "ipython3",
   "version": "3.7.6"
  }
 },
 "nbformat": 4,
 "nbformat_minor": 4
}
