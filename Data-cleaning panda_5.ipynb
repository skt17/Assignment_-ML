{
 "cells": [
  {
   "cell_type": "code",
   "execution_count": null,
   "metadata": {},
   "outputs": [],
   "source": [
    "In the RecentDelays column, the values have been entered into the\n",
    "DataFrame as a list. We would like each first value in its own column, each"
   ]
  },
  {
   "cell_type": "code",
   "execution_count": 93,
   "metadata": {},
   "outputs": [
    {
     "name": "stdout",
     "output_type": "stream",
     "text": [
      "       From         To  FlightNumber  delay_1  delay_2  delay_3  \\\n",
      "0    London      Paris       10045.0     23.0     47.0      NaN   \n",
      "1    Madrid      Milan           NaN      NaN      NaN      NaN   \n",
      "2    London  Stockholm       10065.0     24.0     43.0     87.0   \n",
      "3  Budapest      Paris           NaN     13.0      NaN      NaN   \n",
      "4  Brussels     London       10085.0     67.0     32.0      NaN   \n",
      "\n",
      "               Airline  \n",
      "0               KLM(!)  \n",
      "1    <Air France> (12)  \n",
      "2  (British Airways. )  \n",
      "3       12. Air France  \n",
      "4          \"Swiss Air\"  \n"
     ]
    }
   ],
   "source": [
    "import pandas as pd\n",
    "import numpy as np\n",
    "df = pd.DataFrame({'From_To': ['LoNDon_paris', 'MAdrid_miLAN',\n",
    "'londON_StockhOlm',\n",
    "\n",
    "'Budapest_PaRis', 'Brussels_londOn'],\n",
    "'FlightNumber': [10045, np.nan, 10065, np.nan, 10085],\n",
    "'RecentDelays': [[23, 47], [], [24, 43, 87], [13], [67, 32]],\n",
    "'Airline': ['KLM(!)', '<Air France> (12)', '(British Airways. )',\n",
    "'12. Air France', '\"Swiss Air\"']})\n",
    "#print(df)\n",
    "f=pd.DataFrame(df[\"From_To\"].str.split(\"_\").tolist(),columns=\"From_To\".split(\"_\"))\n",
    "f[\"From\"]=f[\"From\"].str.capitalize()\n",
    "f[\"To\"]=f[\"To\"].str.capitalize()\n",
    "df=df.drop(\"From_To\",axis=1)\n",
    "df=f.join(df)\n",
    "f1=pd.DataFrame(df[\"RecentDelays\"].tolist(),columns=[\"delay_1\",\"delay_2\",\"delay_3\"])\n",
    "df=df.drop(\"RecentDelays\",axis=1)\n",
    "f1=(df.iloc[:,0:3].join(f1)).join(df.iloc[:,-1])\n",
    "\n",
    "print(f1)"
   ]
  },
  {
   "cell_type": "code",
   "execution_count": null,
   "metadata": {},
   "outputs": [],
   "source": []
  },
  {
   "cell_type": "code",
   "execution_count": null,
   "metadata": {},
   "outputs": [],
   "source": []
  },
  {
   "cell_type": "code",
   "execution_count": null,
   "metadata": {},
   "outputs": [],
   "source": []
  }
 ],
 "metadata": {
  "kernelspec": {
   "display_name": "Python 3",
   "language": "python",
   "name": "python3"
  },
  "language_info": {
   "codemirror_mode": {
    "name": "ipython",
    "version": 3
   },
   "file_extension": ".py",
   "mimetype": "text/x-python",
   "name": "python",
   "nbconvert_exporter": "python",
   "pygments_lexer": "ipython3",
   "version": "3.7.6"
  }
 },
 "nbformat": 4,
 "nbformat_minor": 4
}
